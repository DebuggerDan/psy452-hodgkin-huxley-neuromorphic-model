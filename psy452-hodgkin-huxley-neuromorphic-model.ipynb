{
 "cells": [
  {
   "cell_type": "markdown",
   "metadata": {},
   "source": [
    "# **PSY 452 - Advanced Neurophysiological Psychology**"
   ]
  },
  {
   "cell_type": "markdown",
   "metadata": {},
   "source": [
    "## ***Hodgkin-Huxley Neuromorphic Model Demonstration for Presentation*** by Dan Jang"
   ]
  },
  {
   "cell_type": "markdown",
   "metadata": {},
   "source": [
    "### Introduction to the Hodgkin-Huxley Model"
   ]
  },
  {
   "cell_type": "markdown",
   "metadata": {},
   "source": []
  },
  {
   "cell_type": "markdown",
   "metadata": {},
   "source": [
    "### Part 0: ***Initialization***"
   ]
  },
  {
   "cell_type": "code",
   "execution_count": null,
   "metadata": {},
   "outputs": [],
   "source": [
    "#### PSY 452 (Winter 2024) - Advanced Neurophysiological Psychology: Part 0, Initialization\n",
    "### By Dan Jang\n",
    "\n",
    "## I.) Installing necessary packages\n",
    "!pip install numpy\n",
    "!pip install matplotlib.pyplot\n",
    "\n",
    "## II.) Importing essential packages + pyHodgkin-Huxley package [1]\n",
    "\n",
    "import sys\n",
    "import os\n",
    "\n",
    "currpath = os.path.join(os.getcwd(), 'libraries', 'pyhh')\n",
    "\n",
    "if currpath not in sys.path:\n",
    "    sys.path.append(currpath)\n",
    "\n",
    "import pyhh as hodhux\n",
    "import numpy as np\n",
    "import matplotlib.pyplot as plt"
   ]
  },
  {
   "cell_type": "markdown",
   "metadata": {},
   "source": [
    "### Part 1: ***Resting Membrane Potential (RMP)***"
   ]
  },
  {
   "cell_type": "code",
   "execution_count": null,
   "metadata": {},
   "outputs": [],
   "source": [
    "#### PSY 452 (Winter 2024) - Advanced Neurophysiological Psychology: Part 1, Initialization\n",
    "### By Dan Jang"
   ]
  },
  {
   "cell_type": "markdown",
   "metadata": {},
   "source": [
    "### Part 2: ***Depolarization / Beginning of Action Potential***"
   ]
  },
  {
   "cell_type": "code",
   "execution_count": null,
   "metadata": {},
   "outputs": [],
   "source": [
    "#### PSY 452 (Winter 2024) - Advanced Neurophysiological Psychology: Part 2, Depolarization / Beginning of Action Potential\n",
    "### By Dan Jang"
   ]
  },
  {
   "cell_type": "markdown",
   "metadata": {},
   "source": [
    "### Part 3: ***Re- / Hyperpolarization to Reach Resting Membrane Potential (RMP)***"
   ]
  },
  {
   "cell_type": "code",
   "execution_count": null,
   "metadata": {},
   "outputs": [],
   "source": [
    "#### PSY 452 (Winter 2024) - Advanced Neurophysiological Psychology: Part 3, Re- / Hyperpolarization to Reach Resting Membrane Potential (RMP)\n",
    "### By Dan Jang"
   ]
  },
  {
   "cell_type": "markdown",
   "metadata": {},
   "source": [
    "### References"
   ]
  },
  {
   "cell_type": "markdown",
   "metadata": {},
   "source": [
    "[1] S. W. Harden, “swharden/pyHH.” Feb. 11, 2024. Accessed: Feb. 10, 2024. [Online]. Available: https://github.com/swharden/pyHH\n"
   ]
  }
 ],
 "metadata": {
  "kernelspec": {
   "display_name": "Python 3",
   "language": "python",
   "name": "python3"
  },
  "language_info": {
   "name": "python",
   "version": "3.10.4"
  }
 },
 "nbformat": 4,
 "nbformat_minor": 2
}
