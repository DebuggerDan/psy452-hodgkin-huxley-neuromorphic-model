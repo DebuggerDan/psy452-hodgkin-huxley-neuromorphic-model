{
 "cells": [
  {
   "cell_type": "markdown",
   "metadata": {},
   "source": [
    "# **PSY 452 - Advanced Neurophysiological Psychology**"
   ]
  },
  {
   "cell_type": "markdown",
   "metadata": {},
   "source": [
    "## ***Hodgkin-Huxley Neuromorphic Model Demonstration for Presentation*** by Dan Jang"
   ]
  },
  {
   "cell_type": "markdown",
   "metadata": {},
   "source": [
    "### The Hodgkin-Huxley Model [[1](https://www.ncbi.nlm.nih.gov/pmc/articles/PMC1392413/)], Illustrated [[2](https://github.com/rasnell/pyHH)]"
   ]
  },
  {
   "cell_type": "markdown",
   "metadata": {},
   "source": [
    "![Credits to [2]](psy452-theory-creditsScottWHarden[1].png)"
   ]
  },
  {
   "cell_type": "markdown",
   "metadata": {},
   "source": [
    "### The Full Hodgkin-Huxley Model [[1](https://www.ncbi.nlm.nih.gov/pmc/articles/PMC1392413/)] Equations (in LaTeX [[3](https://www.fuw.edu.pl/~jarekz/MODELOWANIE/Hh/HH_exercises.tex)])"
   ]
  },
  {
   "cell_type": "markdown",
   "metadata": {},
   "source": [
    "\"The Hodgkin-Huxley equations using modern conventions are given by:\n",
    "\n",
    "\\begin{align}\n",
    "\\frac{dV}{dt} &= \\left[I_{inj} - \\bar{g}_{Na}m^3h(V-V_{Na}) -\\bar{g}_Kn^4(V-V_K) - g_L (V-V_L)\\right]/C\\\\\n",
    "\\frac{dn}{dt} &= \\alpha_n(V) (1-n) - \\beta_n(V)n\\\\\n",
    "\\frac{dm}{dt} &= \\alpha_m(V) (1-m) - \\beta_m(V)m\\\\\n",
    "\\frac{dh}{dt} &= \\alpha_h(V) (1-h) - \\beta_h(V)h\n",
    "\\end{align}\n",
    "\n",
    "where:\n",
    "\n",
    "\\begin{align}\n",
    "\\alpha_n(V) &= \\frac{0.01(V+55)}{1-\\exp[-(V+55)/10]} \\\\\n",
    "\\beta_n(V) &= 0.125\\exp[-(V+65)/80]\\\\\n",
    "\\alpha_m(V) &= \\frac{0.1(V+40)}{1-\\exp[-(V+40)/10]} \\\\\n",
    "\\beta_m(V) &= 4\\exp[-(V+65)/18]\\\\\n",
    "\\alpha_h(V) &= 0.07\\exp[-(V+65)/20] \\\\\n",
    "\\beta_h(V) &= \\frac{1}{1+\\exp[-(V+35)/10]}\n",
    "\\end{align}\n",
    "\n",
    "The values of the constants are:\n",
    "\n",
    "- $C=1 \\mu F/cm^2$;\n",
    "- $\\bar{g}_{Na} = 120 mS/cm^2$; \n",
    "- $V_{Na}= 50 mV$;\n",
    "\n",
    "- $\\bar{g}_K=36 mS/cm^2$;\n",
    "- $V_K=-77 mV$;\n",
    "\n",
    "- $g_L=0.3 mS/cm^2$;\n",
    "- $V_L=-54 mV$;\n",
    "\n",
    "In these equations, voltages are in $mV$, current densities in $\\mu A/cm^2$, capacitance in $\\mu F/cm^2$, and time in $ms$.\" [[3](https://www.fuw.edu.pl/~jarekz/MODELOWANIE/Hh/HH_exercises.tex)]"
   ]
  },
  {
   "cell_type": "markdown",
   "metadata": {},
   "source": [
    "### Quick & Concise Variate & Verbose Variables List Made Easier-to-Understand [[1](https://www.ncbi.nlm.nih.gov/pmc/articles/PMC1392413/)]"
   ]
  },
  {
   "cell_type": "markdown",
   "metadata": {},
   "source": [
    "![[1, p. 501]](PSY452-WingatePresentationFoto3.png)\n",
    "\n",
    "1. **Vm**: Membrane Potential - Describes the electrochemical gradient across the neuron membrane. This variable is what the Hodgkin-Huxley model primarily focuses on to predict, etc!\n",
    "\n",
    "2. **Cm**: Membrane Capacitance - Represents the ability of the neuron membrane to store charge as a constant variable!\n",
    "\n",
    "3. **I**: External Current - The current, in our case, represents Squidward's impulse as output, applied to Rob, the Motor Neuron, to start positioning his clarinet!\n",
    "\n",
    "4. **gNa, gK, gL**: Maximum Conductances for the Sodium (Na+) Cation, Potassium (K+) Cation, and Leak (L {e.g., Chlorine Cation (Cl)- or Calcium Anion (Ca2+)}) Channels!\n",
    "\n",
    "5. **ENa, EK, EL**: Equilibrium Potentials for Sodium (Na+) Cation, Potassium (K+) Cation, and Leak (L {e.g., Chlorine Cation (Cl)- or Calcium Anion (Ca2+)}) Channels! These values represent the membrane potential, when reached, results / indicates no net flux in-between the membrane (intracellular space {e.g., axoplasm} or extracellular space)!\n",
    "\n",
    "6. **m, h**: Sodium (Na+) channel activation and inactivation probability variables, they are also called & part of the gate variables!\n",
    "\n",
    "7. **n**: Potassium (K+) channel activation probability variable, also one of the gate variables!\n",
    "\n",
    "8. **alpha/beta + _ + n/m/h**: These represent rate constants. Alpha for opening & Beta for closing. Followed by either n, m, or h, representing the gate variables as described above!\n",
    "\n",
    "9. **INa, IK, IL**: Currents that are folowing through the Sodium (Na+) Cation, Potassium (K+) Cation, and Leak (L {e.g., Chlorine Cation (Cl)- or Calcium Anion (Ca2+)}) Ionic Channels!"
   ]
  },
  {
   "cell_type": "markdown",
   "metadata": {},
   "source": [
    "### Part 0: ***Initialization***"
   ]
  },
  {
   "cell_type": "code",
   "execution_count": 6,
   "metadata": {},
   "outputs": [
    {
     "name": "stdout",
     "output_type": "stream",
     "text": [
      "Requirement already satisfied: numpy in c:\\tools\\miniconda3\\lib\\site-packages (1.23.5)\n"
     ]
    },
    {
     "name": "stderr",
     "output_type": "stream",
     "text": [
      "c:\\tools\\miniconda3\\lib\\site-packages\\_distutils_hack\\__init__.py:30: UserWarning: Setuptools is replacing distutils.\n",
      "  warnings.warn(\"Setuptools is replacing distutils.\")\n",
      "c:\\tools\\miniconda3\\lib\\site-packages\\_distutils_hack\\__init__.py:30: UserWarning: Setuptools is replacing distutils.\n",
      "  warnings.warn(\"Setuptools is replacing distutils.\")\n",
      "ERROR: Could not find a version that satisfies the requirement matplotlib.pyplot (from versions: none)\n",
      "ERROR: No matching distribution found for matplotlib.pyplot\n"
     ]
    },
    {
     "name": "stdout",
     "output_type": "stream",
     "text": [
      "simulating 20000 time points...\n",
      "[E3<Squid-Clarinet>] bruh squidward's robert motor neuron model might be misconfigured lol\n"
     ]
    },
    {
     "name": "stderr",
     "output_type": "stream",
     "text": [
      "c:\\tools\\miniconda3\\lib\\site-packages\\_distutils_hack\\__init__.py:30: UserWarning: Setuptools is replacing distutils.\n",
      "  warnings.warn(\"Setuptools is replacing distutils.\")\n",
      "ERROR: Could not find a version that satisfies the requirement scipy.integrate (from versions: none)\n",
      "ERROR: No matching distribution found for scipy.integrate\n"
     ]
    },
    {
     "ename": "AttributeError",
     "evalue": "'Simulation' object has no attribute 'stimulusWaveform'",
     "output_type": "error",
     "traceback": [
      "\u001b[1;31m---------------------------------------------------------------------------\u001b[0m",
      "\u001b[1;31mAttributeError\u001b[0m                            Traceback (most recent call last)",
      "Cell \u001b[1;32mIn[6], line 299\u001b[0m\n\u001b[0;32m    278\u001b[0m squidward\u001b[38;5;241m.\u001b[39mtentacles(\u001b[38;5;28;01mNone\u001b[39;00m, \u001b[38;5;241m120.0\u001b[39m, \u001b[38;5;241m36.0\u001b[39m, \u001b[38;5;241m0.3\u001b[39m, \u001b[38;5;241m1.0\u001b[39m, \u001b[38;5;241m50.0\u001b[39m, \u001b[38;5;241m-\u001b[39m\u001b[38;5;241m77.0\u001b[39m, \u001b[38;5;241m-\u001b[39m\u001b[38;5;241m54.387\u001b[39m, \u001b[38;5;241m10.0\u001b[39m, \u001b[38;5;241m-\u001b[39m\u001b[38;5;241m65.0\u001b[39m, \u001b[38;5;241m0.052\u001b[39m, \u001b[38;5;241m0.596\u001b[39m, \u001b[38;5;241m0.317\u001b[39m, \u001b[38;5;241m20000\u001b[39m, \u001b[38;5;241m50\u001b[39m, \u001b[38;5;241m7000\u001b[39m, \u001b[38;5;241m13000\u001b[39m, \u001b[38;5;28;01mNone\u001b[39;00m, \u001b[38;5;241m0.01\u001b[39m)\n\u001b[0;32m    280\u001b[0m \u001b[38;5;66;03m# Reference - sheetmusic(self, figsizex, figsizey, color1, color2, color3, color4, color5, color6, color7, color8, title)\u001b[39;00m\n\u001b[0;32m    281\u001b[0m \u001b[38;5;66;03m#             movement = self.movement # lazy but saves typing self. each time lmao\u001b[39;00m\n\u001b[0;32m    282\u001b[0m \u001b[38;5;66;03m# # Potential (mV) Color\u001b[39;00m\n\u001b[1;32m   (...)\u001b[0m\n\u001b[0;32m    296\u001b[0m \u001b[38;5;66;03m# # Leak Current (IL) (µA/cm^2) Color\u001b[39;00m\n\u001b[0;32m    297\u001b[0m \u001b[38;5;66;03m#     color8 = 'turquoise'\u001b[39;00m\n\u001b[1;32m--> 299\u001b[0m \u001b[43msquidward\u001b[49m\u001b[38;5;241;43m.\u001b[39;49m\u001b[43msheetmusic\u001b[49m\u001b[43m(\u001b[49m\u001b[38;5;241;43m10\u001b[39;49m\u001b[43m,\u001b[49m\u001b[43m \u001b[49m\u001b[38;5;241;43m8\u001b[39;49m\u001b[43m,\u001b[49m\u001b[43m \u001b[49m\u001b[38;5;124;43m'\u001b[39;49m\u001b[38;5;124;43mr\u001b[39;49m\u001b[38;5;124;43m'\u001b[39;49m\u001b[43m,\u001b[49m\u001b[43m \u001b[49m\u001b[38;5;124;43m'\u001b[39;49m\u001b[38;5;124;43mb\u001b[39;49m\u001b[38;5;124;43m'\u001b[39;49m\u001b[43m,\u001b[49m\u001b[43m \u001b[49m\u001b[38;5;124;43m'\u001b[39;49m\u001b[38;5;124;43mpurple\u001b[39;49m\u001b[38;5;124;43m'\u001b[39;49m\u001b[43m,\u001b[49m\u001b[43m \u001b[49m\u001b[38;5;124;43m'\u001b[39;49m\u001b[38;5;124;43morange\u001b[39;49m\u001b[38;5;124;43m'\u001b[39;49m\u001b[43m,\u001b[49m\u001b[43m \u001b[49m\u001b[38;5;124;43m'\u001b[39;49m\u001b[38;5;124;43myellow\u001b[39;49m\u001b[38;5;124;43m'\u001b[39;49m\u001b[43m,\u001b[49m\u001b[43m \u001b[49m\u001b[38;5;124;43m'\u001b[39;49m\u001b[38;5;124;43mpurple\u001b[39;49m\u001b[38;5;124;43m'\u001b[39;49m\u001b[43m,\u001b[49m\u001b[43m \u001b[49m\u001b[38;5;124;43m'\u001b[39;49m\u001b[38;5;124;43myellow\u001b[39;49m\u001b[38;5;124;43m'\u001b[39;49m\u001b[43m,\u001b[49m\u001b[43m \u001b[49m\u001b[38;5;124;43m'\u001b[39;49m\u001b[38;5;124;43mturquoise\u001b[39;49m\u001b[38;5;124;43m'\u001b[39;49m\u001b[43m,\u001b[49m\u001b[43m \u001b[49m\u001b[38;5;124;43m\"\u001b[39;49m\u001b[38;5;124;43mFull Clarinet Orchestral Positionization Action Potential Stimulation Waveform\u001b[39;49m\u001b[38;5;124;43m\"\u001b[39;49m\u001b[43m)\u001b[49m\n",
      "Cell \u001b[1;32mIn[6], line 146\u001b[0m, in \u001b[0;36mSquidward.sheetmusic\u001b[1;34m(self, figsizex, figsizey, color1, color2, color3, color4, color5, color6, color7, color8, title)\u001b[0m\n\u001b[0;32m    144\u001b[0m stimulationplt \u001b[38;5;241m=\u001b[39m plot\u001b[38;5;241m.\u001b[39msubplot(\u001b[38;5;241m412\u001b[39m)\n\u001b[0;32m    145\u001b[0m stimulationplt\u001b[38;5;241m.\u001b[39mset_ylabel(\u001b[38;5;124m\"\u001b[39m\u001b[38;5;124mSquidward Stimulation (µA/cm²)\u001b[39m\u001b[38;5;124m\"\u001b[39m)\n\u001b[1;32m--> 146\u001b[0m stimulationplt\u001b[38;5;241m.\u001b[39mplot(movement\u001b[38;5;241m.\u001b[39mtimes, \u001b[43mmovement\u001b[49m\u001b[38;5;241;43m.\u001b[39;49m\u001b[43mstimulusWaveform\u001b[49m, color\u001b[38;5;241m=\u001b[39mcolor2)\n\u001b[0;32m    148\u001b[0m \u001b[38;5;66;03m# Gating Variable Activation (m/h/n) Plot #3\u001b[39;00m\n\u001b[0;32m    149\u001b[0m activationplt \u001b[38;5;241m=\u001b[39m plot\u001b[38;5;241m.\u001b[39msubplot(\u001b[38;5;241m413\u001b[39m, sharex\u001b[38;5;241m=\u001b[39mpotentialplt)\n",
      "\u001b[1;31mAttributeError\u001b[0m: 'Simulation' object has no attribute 'stimulusWaveform'"
     ]
    },
    {
     "data": {
      "image/png": "[encoded data removed]",
      "text/plain": [
       "<Figure size 1000x800 with 2 Axes>"
      ]
     },
     "metadata": {},
     "output_type": "display_data"
    }
   ],
   "source": [
    "#### PSY 452 (Winter 2024) - Advanced Neurophysiological Psychology: Part 0, Initialization\n",
    "### By Dan Jang\n",
    "\n",
    "## I.) Installing necessary packages\n",
    "!pip install numpy\n",
    "!pip install matplotlib.pyplot\n",
    "!pip install scipy.integrate\n",
    "\n",
    "# ## II.) Importing essential packages + pyHodgkin-Huxley package [1]\n",
    "\n",
    "# import sys\n",
    "# import os\n",
    "\n",
    "# currpath = os.path.join(os.getcwd(), 'libraries', 'pyhh')\n",
    "\n",
    "# if currpath not in sys.path:\n",
    "#     sys.path.append(currpath)\n",
    "\n",
    "## II.) Importing essential packages + pyHodgkin-Huxley package [1]\n",
    "\n",
    "import numpy as np\n",
    "import matplotlib.pyplot as plot\n",
    "import scipy.integrate\n",
    "from scipy.integrate import odeint\n",
    "\n",
    "import pyhh as hodhux\n",
    "\n",
    "## III.) Create full Hodgkin-Huxley model-based action potential stimulation\n",
    "\n",
    "## III.A) Create Squidward's Rob Motor Neuron :^)\n",
    "class Squidward:\n",
    "    def __init__(self):\n",
    "        self.robert, self.gNa, self.gK, self.gL, self.Cm, self.ENa, self.EK, self.EL, self.I, self.Vm, self.m, self.h, self.n, self.t, self.pulse, self.pulsex, self.pulsey, self.movement = None, 120.0, 36.0, 0.3, 1.0, 50.0, -77.0, -54.387, 10.0, -65.0, 0.052, 0.596, 0.317, 50, 7000, 13000, None, 0.01\n",
    "    \n",
    "    # Essentially, a funny named new-custom constructor\n",
    "    def tentacles(self, robert, gNa, gK, gL, Cm, ENa, EK, EL, I, Vm, m, h, n, t, pulse, pulsex, pulsey, movement, timestep):\n",
    "        \n",
    "        if robert is None:\n",
    "            if self.robert is None:\n",
    "                self.robert = Robert()\n",
    "        \n",
    "        else:\n",
    "            try:\n",
    "                self.robert.activation(robert, gNa, gK, gL, Cm, ENa, EK, EL, I, Vm, m, h, n, t, pulse, pulsex, pulsey)\n",
    "            except:\n",
    "                print(\"[E1<Squid-Init>] bruh u might have missed a neuronal parameter for rob lol\")\n",
    "        \n",
    "        #if clarinet is None:\n",
    "            #if self.clarinet is None:\n",
    "        if timestep is None:\n",
    "            timestep = 0.01\n",
    "        if movement is None:\n",
    "            self.movement = hodhux.Simulation(self.robert.model)\n",
    "            self.clarinet(self.robert.t, timestep, self.movement)\n",
    "        else:\n",
    "            self.clarinet(self.robert.t, timestep, movement)\n",
    "                #self.clarinet = clarinet(t, timestep, )\n",
    "        \n",
    "    def clarinet(self, playtime, timestep, movement):\n",
    "        if playtime is None:\n",
    "            playtime = np.zeros(20000)\n",
    "            \n",
    "        if timestep is None:\n",
    "            timestep = 0.01\n",
    "        \n",
    "        if movement is None:\n",
    "            movement = hodhux.Simulation(self.robert.model)\n",
    "            self.movement = movement\n",
    "            #print(\"[E4<Squid-Clarinet>] bruh u gotta pass a movement thingy so u can actually graph the results u silly head lol\")\n",
    "        \n",
    "        else:\n",
    "            try:\n",
    "                movement.Run(stimulusWaveform=playtime, stepSizeMs=timestep)\n",
    "                self.movement = movement\n",
    "            except:\n",
    "                print(\"[E3<Squid-Clarinet>] bruh squidward's robert motor neuron model might be misconfigured lol\")\n",
    "    \n",
    "    def sheetmusic(self, figsizex, figsizey, color1, color2, color3, color4, color5, color6, color7, color8, title):\n",
    "        #try:\n",
    "        if figsizex:\n",
    "            if figsizey:\n",
    "                plot.figure(figsize=(figsizex, figsizey))\n",
    "        else:\n",
    "            plot.figure(figsize=(10, 8))\n",
    "        # except:\n",
    "        #     print(\"[E4<Squid-SheetMusic>] bruh u might have missed the figure sizes for the sheet music lol\")\n",
    "        \n",
    "        if title is None:\n",
    "            title = \"PSY 452 (Winter 2024) - Hodgkin-Huxley Neuromorphic Computational Graphical Model\"\n",
    "            \n",
    "        else:\n",
    "            title = \"PSY 452 (Winter 2024) - Hodgkin-Huxley Neuromorphic Computational Graphical Model: \" + title\n",
    "            \n",
    "        if self.movement is None:\n",
    "            print(\"[E4<Squid-SheetMusic>] bruh squidward apparently hasnt moved his clarinet or if he did, it wasn't recorded u silly goose lol\")\n",
    "        \n",
    "        if self.robert is None:\n",
    "            print(\"[E5<Squid-SheetMusic>] bruh somehow at this stage, Robert the Motor Neuron still has not been created yet, you are one silly goose dan lmao\")\n",
    "        \n",
    "        else:\n",
    "            movement = self.movement # lazy but saves typing self. each time lmao\n",
    "            # Potential (mV) Color\n",
    "            if color1 is None:\n",
    "                color1 = 'r'\n",
    "            \n",
    "            # Input Stimulation (µA/cm^2) Color\n",
    "            if color2 is None:\n",
    "                color2 = 'b'\n",
    "            \n",
    "            # Sodium Activation Gating Variable (m) Color\n",
    "            if color3 is None:\n",
    "                color3 = 'purple'\n",
    "            \n",
    "            # Sodium Inactivation Gating Variable (h) Color\n",
    "            if color4 is None:\n",
    "                color4 = 'orange'\n",
    "            \n",
    "            # Potassium Activation Gating Variable (n) Color\n",
    "            if color5 is None:\n",
    "                color5 = 'yellow' # BANANA\n",
    "                \n",
    "            # Sodium Current (INa) (µA/cm^2) Color\n",
    "            if color6 is None:\n",
    "                color6 = 'purple'\n",
    "                \n",
    "            # Potassium Current (IK) (µA/cm^2) Color\n",
    "            if color7 is None:\n",
    "                color7 = 'yellow'\n",
    "                \n",
    "            # Leak Current (IL) (µA/cm^2) Color\n",
    "            if color8 is None:\n",
    "                color8 = 'turquoise'\n",
    "                \n",
    "            ## Credits to [2] for parts from README.md Example Code\n",
    "            \n",
    "            # Potential (mV) Plot #1\n",
    "            potentialplt = plot.subplot(411)\n",
    "            potentialplt.set_title(title)\n",
    "            potentialplt.set_ylabel(\"Rob's Membrane Potential (mV)\")\n",
    "            potentialplt.plot(movement.times, movement.Vm, color=color1)\n",
    "            \n",
    "            \n",
    "            # Input Stimulation (µA/cm^2) Plot #2\n",
    "            stimulationplt = plot.subplot(412)\n",
    "            stimulationplt.set_ylabel(\"Squidward Stimulation (µA/cm²)\")\n",
    "            stimulationplt.plot(movement.times, movement.stimulusWaveform, color=color2)\n",
    "            \n",
    "            # Gating Variable Activation (m/h/n) Plot #3\n",
    "            activationplt = plot.subplot(413, sharex=potentialplt)\n",
    "            activationplt.set_ylabel(\"Rob's Channel Activation (fractional)\")\n",
    "            activationplt.plot(movement.times, movement.StateM, label='m', color=color3)\n",
    "            activationplt.plot(movement.times, movement.StateH, label='h', color=color4)\n",
    "            activationplt.plot(movement.times, movement.StateN, label='n', color=color5)\n",
    "            activationplt.legend()\n",
    "            \n",
    "            # Ionic Channel Current Plot (INa/IK/Ileak) Plot #4\n",
    "            currentplt = plot.subplot(414, sharex=potentialplt)\n",
    "            currentplt.set_xlabel(\"Clarinet Action Potential Time (in milliseconds)\")\n",
    "            currentplt.set_ylabel(\"Rob Membrane Ionic Current (µA/cm²)\")\n",
    "            currentplt.plot(movement.times, movement.INa, label='INa (Sodium Current)', color=color6)\n",
    "            currentplt.plot(movement.times, movement.IK, label='IK (Potassium Current)', color=color7)\n",
    "            currentplt.plot(movement.times, movement.IL, label='IL (Leakage Current)', color=color8)\n",
    "            currentplt.legend()\n",
    "            \n",
    "            plot.tight_layout()\n",
    "            plot.savefig(\"PSY452-FullSquidwarClarinetActionPotentialStimulationWave-DanJ.png\")\n",
    "            plot.show()\n",
    "    \n",
    "class Robert:\n",
    "        def __init__(self):\n",
    "            self.model = None\n",
    "            self.t = None\n",
    "            \n",
    "        def activation(self, model, gNa, gK, gL, Cm, ENa, EK, EL, I, Vm, m, h, n, t, pulse, pulsex, pulsey):\n",
    "                        \n",
    "            if model is None:\n",
    "                if self.model is None:\n",
    "                    robert = hodhux.HHModel()\n",
    "\n",
    "                    # Squidward's Rob Motor Neuron Parameter, gNa: Avg. Na+ (Sodium cation) conductance per unit area (mS/cm^2)\n",
    "                    robert.gNa = 120.0\n",
    "\n",
    "                    # Squidward's Rob Motor Neuron Parameter, gK: Avg. K+ (Potassium cation) conductance per unit area (mS/cm^2)\n",
    "                    robert.gK = 36.0\n",
    "\n",
    "                    # Squidward's Rob Motor Neuron Parameter, gL: Avg. Leak (e.g., Chlorine anions / Calcium {2+} cations) conductance per unit area (mS/cm^2)\n",
    "                    robert.gL = 0.3\n",
    "\n",
    "                    # Squidward's Rob Motor Neuron Parameter, Cm: Membrane capacitance per unit area (uF/cm^2)\n",
    "                    robert.Cm = 1.0\n",
    "\n",
    "                    # Squidward's Rob Motor Neuron Parameter, ENa: Sodium cation Nernst reversal potential (mV)\n",
    "                    robert.ENa = 50.0\n",
    "\n",
    "                    # Squidward's Rob Motor Neuron Parameter, EK: Potassium cation Nernst reversal potential (mV)\n",
    "                    robert.EK = -77.0\n",
    "\n",
    "                    # Squidward's Rob Motor Neuron Parameter, EL: Leak Nernst reversal potential (mV)\n",
    "                    robert.EL = -54.387\n",
    "\n",
    "                    # Squidward's Rob Motor Neuron Parameter, I: External current (uA/cm^2)\n",
    "                    robert.I = 10.0\n",
    "\n",
    "                    # Squidward's Rob Motor Neuron Parameter, Vm: Membrane potential (mV)\n",
    "                    robert.Vm = -65.0\n",
    "\n",
    "                    # Squidward's Rob Motor Neuron Parameter, m: Sodium cation activation gating variable\n",
    "                    robert.m = 0.052\n",
    "\n",
    "                    # Squidward's Rob Motor Neuron Parameter, h: Sodium cation inactivation gating variable\n",
    "                    robert.h = 0.596\n",
    "\n",
    "                    # Squidward's Rob Motor Neuron Parameter, n: Potassium cation activation gating variable\n",
    "                    robert.n = 0.317\n",
    "                    \n",
    "                    # Stimulus Waveform thingy\n",
    "                    self.t = np.zeros(20000)\n",
    "                    \n",
    "                    # Stimulus Waveform <+ Square Pulse\n",
    "                    self.t[7000:13000] = 50\n",
    "                    \n",
    "                    self.model = robert\n",
    "                robert = model\n",
    "                \n",
    "            try:\n",
    "                if gNa is not None:\n",
    "                    robert.gNa = gNa\n",
    "                    \n",
    "                if gK is not None:\n",
    "                    robert.gK = gK\n",
    "                \n",
    "                if gL is not None:\n",
    "                    robert.gL = gL\n",
    "                    \n",
    "                if Cm is not None:\n",
    "                    robert.Cm = Cm\n",
    "                    \n",
    "                if ENa is not None:\n",
    "                    robert.ENa = ENa\n",
    "                    \n",
    "                if EK is not None:\n",
    "                    robert.EK = EK\n",
    "                    \n",
    "                if EL is not None:\n",
    "                    robert.EL = EL\n",
    "                    \n",
    "                if I is not None:\n",
    "                    robert.I = I\n",
    "                    \n",
    "                if Vm is not None:\n",
    "                    robert.Vm = Vm\n",
    "                    \n",
    "                if m is not None:\n",
    "                    robert.m = m\n",
    "                    \n",
    "                if h is not None:\n",
    "                    robert.h = h\n",
    "                    \n",
    "                if n is not None:\n",
    "                    robert.n = n\n",
    "                    \n",
    "                if t is not None:\n",
    "                    self.t = t\n",
    "                \n",
    "                if pulse is not None:\n",
    "                    if pulsex is not None:\n",
    "                        if pulsey is not None:\n",
    "                            self.t[pulsex:pulsey] = pulse\n",
    "                    \n",
    "                self.model = robert\n",
    "            except:\n",
    "                print(\"[E2<SubSquid-Rob-Init>] bruh u might have missed a neuronal parameter for rob within squidward initialization thingy lol\")\n",
    "\n",
    "### Finally, the grand test for class Squidward (main wrapper), with a subclass Robert (le Motor Neuron model encompassing wrapper)\n",
    "\n",
    "# Reference - Squidward(self, robert, gNa, gK, gL, Cm, ENa, EK, EL, I, Vm, m, h, n, t, pulse, pulsex, pulsey, movement, timestep)\n",
    "squidward = Squidward()\n",
    "squidward.tentacles(None, 120.0, 36.0, 0.3, 1.0, 50.0, -77.0, -54.387, 10.0, -65.0, 0.052, 0.596, 0.317, 20000, 50, 7000, 13000, None, 0.01)\n",
    "\n",
    "# Reference - sheetmusic(self, figsizex, figsizey, color1, color2, color3, color4, color5, color6, color7, color8, title)\n",
    "#             movement = self.movement # lazy but saves typing self. each time lmao\n",
    "# # Potential (mV) Color\n",
    "#     color1 = 'r'\n",
    "# # Input Stimulation (µA/cm^2) Color\n",
    "#     color2 = 'b'\n",
    "# # Sodium Activation Gating Variable (m) Color\n",
    "#     color3 = 'purple'\n",
    "# # Sodium Inactivation Gating Variable (h) Color\n",
    "#     color4 = 'orange'\n",
    "# # Potassium Activation Gating Variable (n) Color\n",
    "#     color5 = 'yellow' # BANANA\n",
    "# # Sodium Current (INa) (µA/cm^2) Color\n",
    "#     color6 = 'purple'\n",
    "# # Potassium Current (IK) (µA/cm^2) Color\n",
    "#     color7 = 'yellow'\n",
    "# # Leak Current (IL) (µA/cm^2) Color\n",
    "#     color8 = 'turquoise'\n",
    "\n",
    "squidward.sheetmusic(10, 8, 'r', 'b', 'purple', 'orange', 'yellow', 'purple', 'yellow', 'turquoise', \"Full Clarinet Orchestral Positionization Action Potential Stimulation Waveform\")"
   ]
  },
  {
   "cell_type": "markdown",
   "metadata": {},
   "source": [
    "### Part 1: ***Resting Membrane Potential (RMP)***"
   ]
  },
  {
   "cell_type": "code",
   "execution_count": null,
   "metadata": {},
   "outputs": [],
   "source": [
    "#### PSY 452 (Winter 2024) - Advanced Neurophysiological Psychology: Part 1, Initialization\n",
    "### By Dan Jang\n",
    "### Credits to Scott W. Harden for pyhh package [1]\n",
    "\n"
   ]
  },
  {
   "cell_type": "markdown",
   "metadata": {},
   "source": [
    "### Part 2: ***Depolarization / Beginning of Action Potential***"
   ]
  },
  {
   "cell_type": "code",
   "execution_count": null,
   "metadata": {},
   "outputs": [],
   "source": [
    "#### PSY 452 (Winter 2024) - Advanced Neurophysiological Psychology: Part 2, Depolarization / Beginning of Action Potential\n",
    "### By Dan Jang\n",
    "### Credits to Scott W. Harden for pyhh package [1]"
   ]
  },
  {
   "cell_type": "markdown",
   "metadata": {},
   "source": [
    "### Part 3: ***Re- / Hyperpolarization to Reach Resting Membrane Potential (RMP)***"
   ]
  },
  {
   "cell_type": "code",
   "execution_count": null,
   "metadata": {},
   "outputs": [],
   "source": [
    "#### PSY 452 (Winter 2024) - Advanced Neurophysiological Psychology: Part 3, Re- / Hyperpolarization to Reach Resting Membrane Potential (RMP)\n",
    "### By Dan Jang\n",
    "### Credits to Scott W. Harden for pyhh package [1]"
   ]
  },
  {
   "cell_type": "markdown",
   "metadata": {},
   "source": [
    "![Nobel Prize Foto, 1952 [4]](PSY452-WingatePresentationFoto1.png) [[4](https://www.ncbi.nlm.nih.gov/pmc/articles/PMC3424716/)]"
   ]
  },
  {
   "cell_type": "markdown",
   "metadata": {},
   "source": [
    "## **References**"
   ]
  },
  {
   "cell_type": "markdown",
   "metadata": {},
   "source": [
    "[1] S. W. Harden, “swharden/pyHH.” Feb. 11, 2024. [Online]. Available: https://github.com/swharden/pyHH\n",
    "\n",
    "[2] A. L. Hodgkin and A. F. Huxley, “A quantitative description of membrane current and its application to conduction and excitation in nerve,” J Physiol, vol. 117, no. 4, pp. 500–544, Aug. 1952. [Online]. Available: https://www.ncbi.nlm.nih.gov/pmc/articles/PMC1392413/\n",
    "\n",
    "[3] J. Żygierewicz, “Exercise 1: The Hodgkin Huxley model.” [Online]. Available: https://www.fuw.edu.pl/~jarekz/MODELOWANIE/Hh/HH_exercises.tex\n",
    "\n",
    "[4] C. J. Schwiening, “A brief historical perspective: Hodgkin and Huxley,” J Physiol, vol. 590, no. Pt 11, pp. 2571–2575, Jun. 2012, doi: 10.1113/jphysiol.2012.230458.\n"
   ]
  }
 ],
 "metadata": {
  "kernelspec": {
   "display_name": "Python 3",
   "language": "python",
   "name": "python3"
  },
  "language_info": {
   "codemirror_mode": {
    "name": "ipython",
    "version": 3
   },
   "file_extension": ".py",
   "mimetype": "text/x-python",
   "name": "python",
   "nbconvert_exporter": "python",
   "pygments_lexer": "ipython3",
   "version": "3.10.4"
  }
 },
 "nbformat": 4,
 "nbformat_minor": 2
}
